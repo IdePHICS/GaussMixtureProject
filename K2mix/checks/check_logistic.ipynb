{
 "cells": [
  {
   "cell_type": "code",
   "execution_count": 12,
   "id": "victorian-highway",
   "metadata": {},
   "outputs": [],
   "source": [
    "import numpy as np\n",
    "import matplotlib.pyplot as plt\n",
    "import pandas as pd\n",
    "from scipy.linalg import sqrtm\n",
    "from sklearn.linear_model import ElasticNet, LogisticRegression\n",
    "\n",
    "import sys\n",
    "sys.path.insert(1, '../')\n",
    "from saddle_point.experiments.learning_curve import LearningCurve"
   ]
  },
  {
   "cell_type": "code",
   "execution_count": 2,
   "id": "cosmetic-plumbing",
   "metadata": {},
   "outputs": [],
   "source": [
    "def get_mean(dimension=500, *, rho):\n",
    "    mean = np.random.normal(0, 1, dimension) / np.sqrt(dimension)\n",
    "        \n",
    "    idx = np.random.choice(dimension, size=int((1-rho)*dimension), replace=False)\n",
    "    mean[idx] = 0.\n",
    "    \n",
    "    return mean\n",
    "\n",
    "def get_cov(dimension=500, *, rho, delta1, delta2):\n",
    "    cov = delta1 * np.identity(dimension)\n",
    "        \n",
    "    idx = np.random.choice(dimension, size=int((1-rho)*dimension), replace=False)\n",
    "    cov[idx, idx] = delta2\n",
    "    \n",
    "    return cov"
   ]
  },
  {
   "cell_type": "code",
   "execution_count": 3,
   "id": "pretty-identification",
   "metadata": {},
   "outputs": [],
   "source": [
    "d = 500\n",
    "lamb = 0.01\n",
    "\n",
    "rho = 1\n",
    "\n",
    "delta1 = 0.5\n",
    "delta2 = 0.1\n",
    "\n",
    "prob = 0.5\n",
    "\n",
    "cov = get_cov(dimension=d, \n",
    "              rho=rho, \n",
    "              delta1=delta1, \n",
    "              delta2=delta2)\n",
    "\n",
    "sqrtcov = sqrtm(cov)"
   ]
  },
  {
   "cell_type": "markdown",
   "id": "disturbed-ottawa",
   "metadata": {},
   "source": [
    "## Replicas"
   ]
  },
  {
   "cell_type": "code",
   "execution_count": 4,
   "id": "appreciated-stockholm",
   "metadata": {
    "scrolled": true,
    "tags": []
   },
   "outputs": [
    {
     "name": "stdout",
     "output_type": "stream",
     "text": [
      "Running sample complexity: 0.01\n"
     ]
    },
    {
     "name": "stderr",
     "output_type": "stream",
     "text": [
      "../saddle_point/losses/logistic_loss.py:40: RuntimeWarning: overflow encountered in exp\n",
      "  return -1/(1+np.exp(z))\n"
     ]
    },
    {
     "name": "stdout",
     "output_type": "stream",
     "text": [
      "Running sample complexity: 0.1673684210526316\n",
      "Running sample complexity: 0.3247368421052632\n",
      "Running sample complexity: 0.4821052631578948\n",
      "Running sample complexity: 0.6394736842105264\n",
      "Running sample complexity: 0.796842105263158\n",
      "Running sample complexity: 0.9542105263157896\n",
      "Running sample complexity: 1.1115789473684212\n",
      "Running sample complexity: 1.2689473684210528\n",
      "Running sample complexity: 1.4263157894736844\n",
      "Running sample complexity: 1.583684210526316\n",
      "Running sample complexity: 1.7410526315789476\n",
      "Running sample complexity: 1.8984210526315792\n",
      "Running sample complexity: 2.055789473684211\n",
      "Running sample complexity: 2.213157894736842\n",
      "Running sample complexity: 2.3705263157894736\n",
      "Running sample complexity: 2.5278947368421054\n",
      "Running sample complexity: 2.6852631578947372\n",
      "Running sample complexity: 2.8426315789473686\n",
      "Running sample complexity: 3.0\n"
     ]
    }
   ],
   "source": [
    "experiment = LearningCurve(loss = 'logistic', \n",
    "                            penalty = 'l2', \n",
    "                            regularisation = lamb, \n",
    "                            variances = [delta1, delta2], \n",
    "                            ratios = [rho, 1-rho],\n",
    "                            probability = prob,\n",
    "                            damping=0.9,\n",
    "                            verbose = True)\n",
    "\n",
    "experiment.learning_curve(sc_range = np.linspace(0.01, 3, 20))"
   ]
  },
  {
   "cell_type": "code",
   "execution_count": 6,
   "id": "corresponding-secretariat",
   "metadata": {},
   "outputs": [],
   "source": [
    "theory = experiment.get_curve()"
   ]
  },
  {
   "cell_type": "code",
   "execution_count": 19,
   "id": "characteristic-string",
   "metadata": {},
   "outputs": [],
   "source": [
    "# theory.to_csv('../data/theory/logistic_l2_rho={}_delta1={}_delta2={}_lamb={}_prob={}.csv'.format(rho, delta1, delta2, lamb, prob), index=False)"
   ]
  },
  {
   "cell_type": "markdown",
   "id": "supposed-dubai",
   "metadata": {},
   "source": [
    "## Simulations"
   ]
  },
  {
   "cell_type": "code",
   "execution_count": 13,
   "id": "pending-madonna",
   "metadata": {},
   "outputs": [],
   "source": [
    "def get_samples(*, n, mean, sqrtcov, prob):\n",
    "    \n",
    "    y = np.random.choice([1,-1], n, p = [prob, 1-prob])\n",
    "    X = y.reshape(n,1) @ mean.reshape(1,d) + np.random.normal(0,1,(n,d)) @ sqrtcov.T\n",
    "            \n",
    "    return X/np.sqrt(d), y"
   ]
  },
  {
   "cell_type": "code",
   "execution_count": 14,
   "id": "freelance-graphic",
   "metadata": {},
   "outputs": [],
   "source": [
    "def get_errors(*, samples, prob, lamb, seeds, sqrtcov, rho, penalty):\n",
    "    '''\n",
    "    Get averaged training and test error over a number of seeds for a fixed \n",
    "    number of samples.\n",
    "    '''\n",
    "    \n",
    "    eg, et, q_tab, m_tab, b_tab = [], [], [], [], []\n",
    "    \n",
    "    cov = sqrtcov @ sqrtcov\n",
    "    \n",
    "    for i in range(seeds):\n",
    "        print('Seed: {}'.format(i))\n",
    "        \n",
    "        mean = get_mean(rho=1)\n",
    "\n",
    "        # Randomly subsample a set of indices (without replacement)\n",
    "        X_train, y_train = get_samples(n=samples, \n",
    "                                       sqrtcov=sqrtcov, \n",
    "                                       mean=mean,\n",
    "                                       prob=prob)\n",
    "        \n",
    "        X_test, y_test = get_samples(n=1000, \n",
    "                                     sqrtcov=sqrtcov, \n",
    "                                     mean=mean,\n",
    "                                     prob=prob)\n",
    "\n",
    "\n",
    "        clf = LogisticRegression(penalty=penalty, solver='liblinear',fit_intercept=True, C = lamb**(-1), \n",
    "                                 max_iter=1e4, tol=1e-7, verbose=0).fit(X_train, y_train)\n",
    "\n",
    "        w, b = clf.coef_[0], clf.intercept_[0]\n",
    "            \n",
    "        # Label estimate\n",
    "        yhat_train = (X_train @ w + b)\n",
    "        yhat_test = np.sign(X_test @ w + b)\n",
    "\n",
    "        # Errors\n",
    "        test_error = .25 * np.mean((yhat_test-y_test)**2)\n",
    "        train_loss = .5 * np.mean((yhat_train-y_train)**2)\n",
    "        \n",
    "        q = w.dot(cov @ w) / d        \n",
    "        m = mean.dot(w) / np.sqrt(d)\n",
    "                \n",
    "        eg.append(test_error)\n",
    "        et.append(train_loss)\n",
    "        \n",
    "        q_tab.append(q)\n",
    "        m_tab.append(m)\n",
    "        b_tab.append(b)\n",
    "\n",
    "    return (np.mean(et), np.std(et), np.mean(eg), np.std(eg),\n",
    "            np.mean(q_tab), np.std(q_tab), \n",
    "            np.mean(m_tab), np.std(m_tab),\n",
    "            np.mean(b_tab), np.std(b_tab)\n",
    "           )"
   ]
  },
  {
   "cell_type": "code",
   "execution_count": 15,
   "id": "contrary-brooks",
   "metadata": {},
   "outputs": [],
   "source": [
    "def simulate(seeds=10, prob=.5, *, sc_range, lamb, sqrtcov, rho, penalty):\n",
    "\n",
    "    data = {'test_error': [], 'train_loss': [], 'test_error_std': [], \n",
    "            'train_loss_std': [], 'lambda': [], 'probability': [],\n",
    "            'sample_complexity': [], 'samples': [], 'rho': [], 'penalty': [],\n",
    "            'q': [], 'q_std': [], 'm': [], 'm_std': [], 'b': [], 'b_std': []}\n",
    "    \n",
    "    for alpha in sc_range:\n",
    "        print('Simulating sample complexity: {}'.format(alpha))\n",
    "        samples = int(alpha * d)\n",
    "        et, et_std, eg, eg_std, q, q_std, m, m_std, b, b_std = get_errors(samples=samples, \n",
    "                                                                prob=prob, \n",
    "                                                                lamb=lamb, \n",
    "                                                                seeds=seeds, \n",
    "                                                                sqrtcov=sqrtcov,\n",
    "                                                                rho=rho,\n",
    "                                                                penalty=penalty)\n",
    "        \n",
    "        data['sample_complexity'].append(alpha)\n",
    "        data['samples'].append(samples)\n",
    "        data['probability'].append(prob)\n",
    "        data['rho'].append(rho)\n",
    "        data['penalty'].append(penalty)\n",
    "        \n",
    "        data['lambda'].append(lamb)\n",
    "\n",
    "        data['test_error'].append(eg)\n",
    "        data['test_error_std'].append(eg_std)\n",
    "        data['train_loss'].append(et)\n",
    "        data['train_loss_std'].append(et_std)\n",
    "\n",
    "        data['q'].append(q)\n",
    "        data['q_std'].append(q_std)\n",
    "\n",
    "        data['m'].append(m)\n",
    "        data['m_std'].append(m_std)\n",
    "\n",
    "        data['b'].append(b)\n",
    "        data['b_std'].append(b_std)\n",
    "        \n",
    "    return pd.DataFrame.from_dict(data)"
   ]
  },
  {
   "cell_type": "code",
   "execution_count": 16,
   "id": "touched-underground",
   "metadata": {
    "scrolled": true,
    "tags": []
   },
   "outputs": [
    {
     "name": "stdout",
     "output_type": "stream",
     "text": [
      "Simulating sample complexity: 0.1\n",
      "Seed: 0\n",
      "Seed: 1\n",
      "Seed: 2\n",
      "Seed: 3\n",
      "Seed: 4\n",
      "Seed: 5\n",
      "Seed: 6\n",
      "Seed: 7\n",
      "Seed: 8\n",
      "Seed: 9\n",
      "Simulating sample complexity: 0.42222222222222217\n",
      "Seed: 0\n",
      "Seed: 1\n",
      "Seed: 2\n",
      "Seed: 3\n",
      "Seed: 4\n",
      "Seed: 5\n",
      "Seed: 6\n",
      "Seed: 7\n",
      "Seed: 8\n",
      "Seed: 9\n",
      "Simulating sample complexity: 0.7444444444444444\n",
      "Seed: 0\n",
      "Seed: 1\n",
      "Seed: 2\n",
      "Seed: 3\n",
      "Seed: 4\n",
      "Seed: 5\n",
      "Seed: 6\n",
      "Seed: 7\n",
      "Seed: 8\n",
      "Seed: 9\n",
      "Simulating sample complexity: 1.0666666666666667\n",
      "Seed: 0\n",
      "Seed: 1\n",
      "Seed: 2\n",
      "Seed: 3\n",
      "Seed: 4\n",
      "Seed: 5\n",
      "Seed: 6\n",
      "Seed: 7\n",
      "Seed: 8\n",
      "Seed: 9\n",
      "Simulating sample complexity: 1.3888888888888888\n",
      "Seed: 0\n",
      "Seed: 1\n",
      "Seed: 2\n",
      "Seed: 3\n",
      "Seed: 4\n",
      "Seed: 5\n",
      "Seed: 6\n",
      "Seed: 7\n",
      "Seed: 8\n",
      "Seed: 9\n",
      "Simulating sample complexity: 1.711111111111111\n",
      "Seed: 0\n",
      "Seed: 1\n",
      "Seed: 2\n",
      "Seed: 3\n",
      "Seed: 4\n",
      "Seed: 5\n",
      "Seed: 6\n",
      "Seed: 7\n",
      "Seed: 8\n",
      "Seed: 9\n",
      "Simulating sample complexity: 2.033333333333333\n",
      "Seed: 0\n",
      "Seed: 1\n",
      "Seed: 2\n",
      "Seed: 3\n",
      "Seed: 4\n",
      "Seed: 5\n",
      "Seed: 6\n",
      "Seed: 7\n",
      "Seed: 8\n",
      "Seed: 9\n",
      "Simulating sample complexity: 2.3555555555555556\n",
      "Seed: 0\n",
      "Seed: 1\n",
      "Seed: 2\n",
      "Seed: 3\n",
      "Seed: 4\n",
      "Seed: 5\n",
      "Seed: 6\n",
      "Seed: 7\n",
      "Seed: 8\n",
      "Seed: 9\n",
      "Simulating sample complexity: 2.6777777777777776\n",
      "Seed: 0\n",
      "Seed: 1\n",
      "Seed: 2\n",
      "Seed: 3\n",
      "Seed: 4\n",
      "Seed: 5\n",
      "Seed: 6\n",
      "Seed: 7\n",
      "Seed: 8\n",
      "Seed: 9\n",
      "Simulating sample complexity: 3.0\n",
      "Seed: 0\n",
      "Seed: 1\n",
      "Seed: 2\n",
      "Seed: 3\n",
      "Seed: 4\n",
      "Seed: 5\n",
      "Seed: 6\n",
      "Seed: 7\n",
      "Seed: 8\n",
      "Seed: 9\n"
     ]
    }
   ],
   "source": [
    "sc_range = np.linspace(0.1, 3, 10)\n",
    "l2 = simulate(sc_range=sc_range, \n",
    "                lamb=lamb, \n",
    "                sqrtcov=sqrtcov, \n",
    "                rho=rho,\n",
    "                seeds=10,\n",
    "                penalty='l2')"
   ]
  },
  {
   "cell_type": "code",
   "execution_count": 20,
   "id": "express-suffering",
   "metadata": {},
   "outputs": [],
   "source": [
    "# l2.to_csv('../data/theory/sim_logistic_l2_rho={}_delta1={}_delta2={}_lamb={}_prob={}.csv'.format(rho, delta1, delta2, lamb, prob), index=False)"
   ]
  },
  {
   "cell_type": "code",
   "execution_count": 23,
   "id": "comic-investigator",
   "metadata": {},
   "outputs": [
    {
     "data": {
      "text/plain": [
       "<matplotlib.legend.Legend at 0x12405b100>"
      ]
     },
     "execution_count": 23,
     "metadata": {},
     "output_type": "execute_result"
    },
    {
     "data": {
      "image/png": "[encoded data removed]",
      "text/plain": [
       "<Figure size 1080x360 with 1 Axes>"
      ]
     },
     "metadata": {
      "needs_background": "light"
     },
     "output_type": "display_data"
    }
   ],
   "source": [
    "fig, ax = plt.subplots(figsize=(15,5))\n",
    "\n",
    "plt.title(r'Logistic regression with $\\ell_2$ penalty for binary Gaussian mixture with random means and block covariance, $\\lambda = {}$, $\\Delta = ({}, {})$, $\\rho={}$'.format(lamb, delta1, delta2, rho))\n",
    "\n",
    "l2.plot(x='sample_complexity', \n",
    "        y='test_error', \n",
    "        kind = 'scatter',\n",
    "        yerr='test_error_std',\n",
    "        ax=ax, \n",
    "        label='Simulation',\n",
    "        c='r')\n",
    "\n",
    "theory.plot(x='sample_complexity', \n",
    "        y='test_error', \n",
    "        ax=ax, \n",
    "        label='Theory',\n",
    "        c='b')\n",
    "\n",
    "plt.ylabel(r\"test error\")\n",
    "plt.xlabel(r\"samples\")\n",
    "\n",
    "plt.legend()\n",
    "# plt.savefig('../data/plots/logistic_l2_rho={}_delta1={}_delta2={}_lamb={}_prob={}.pdf'.format(rho, delta1, delta2, lamb, prob), bbox_inches='tight')"
   ]
  },
  {
   "cell_type": "code",
   "execution_count": null,
   "id": "distributed-drama",
   "metadata": {},
   "outputs": [],
   "source": []
  }
 ],
 "metadata": {
  "kernelspec": {
   "display_name": "Python 3",
   "language": "python",
   "name": "python3"
  },
  "language_info": {
   "codemirror_mode": {
    "name": "ipython",
    "version": 3
   },
   "file_extension": ".py",
   "mimetype": "text/x-python",
   "name": "python",
   "nbconvert_exporter": "python",
   "pygments_lexer": "ipython3",
   "version": "3.9.1"
  }
 },
 "nbformat": 4,
 "nbformat_minor": 5
}
