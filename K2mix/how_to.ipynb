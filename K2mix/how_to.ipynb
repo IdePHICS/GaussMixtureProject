{
 "cells": [
  {
   "cell_type": "code",
   "execution_count": 60,
   "metadata": {},
   "outputs": [],
   "source": [
    "import numpy as np\n",
    "import matplotlib.pyplot as plt\n",
    "import pandas as pd\n",
    "from scipy.linalg import sqrtm\n",
    "from sklearn.linear_model import ElasticNet\n",
    "\n",
    "from saddle_point.experiments.learning_curve import LearningCurve\n",
    "from saddle_point.experiments.cluster import ClusterExperiment"
   ]
  },
  {
   "cell_type": "markdown",
   "metadata": {},
   "source": [
    "# Classification of $K=2$ Gaussian clusters with nonhomogeneous covariances"
   ]
  },
  {
   "cell_type": "markdown",
   "metadata": {},
   "source": [
    "This notebook consider the problem of classification on a mixture of two Gaussian clusters with opposite means $\\boldsymbol\\mu_1=-\\boldsymbol\\mu_2\\equiv\\boldsymbol\\mu$ and nonhomegenous covariances, i.e., covariances in the form $\\boldsymbol\\Sigma=\\mathrm{diag}(\\sigma_j)\\in\\mathbb R^{d\\times d}$. The covariances are such that each $\\sigma_j$ follows the distribution\n",
    "$$P(\\sigma)=\\sum_{r=1}^Rp_r\\delta(\\sigma-\\Delta_r),\\qquad \\mathbf p=(p_r)_r$$\n",
    "where $\\boldsymbol\\Delta=(\\Delta_r)_r$ is a set of $R$ prefixed values. We also consider two settings for the means of the clusters:\n",
    "- in the 'dense' setting, the means have Gaussian entries of zero mean and unit variance.\n",
    "- in the 'sparse' setting we impose $R=2$ and we generate means and variances in a correlated way, and in particular we use\n",
    "$$ P(\\boldsymbol\\mu,\\boldsymbol\\sigma)=\\prod\\limits_{i=1}^{d}\\left\\{\\rho \\mathcal{N}(\\mu_{i}|0,1) \\delta_{\\sigma_{i}, \\Delta_{2}} + (1-\\rho) \\delta_{\\mu_{i},0} \\delta_{\\sigma_{i}, \\Delta_{1}}\\right\\}$$\n",
    "\n",
    "To obtain the theoretical prediction for this setting, it is possible to first create an object ```MyPredictor``` of type ```LearningCurve```, class in ```saddle_point.experiments.learning_curve```.The creation of such object requires some input parameters:\n",
    "- ```loss```. At the moment, the code allows to analyse this problem using two different losses,\n",
    "    - Square loss $\\ell(z) = \\frac{1}{2}(1-z)^2$, using ```loss='square'```\n",
    "    - Logistic loss $\\ell(z) = \\log\\left(1-e^{-z}\\right)$ using ```loss='log'```\n",
    "- ```penalty```, corresponding to the type of regularisation. The code also support two possible regularisation, namely $\\ell_1$ using ```penalty='l1'``` and $\\ell_2$ using ```penalty='l2'```.\n",
    "- ```regularisation```, a float number corresponding to the strength $\\lambda$ of the regularisation.\n",
    "- ```variances```, a vector corresponding to the set $\\boldsymbol \\sigma$.\n",
    "- ```ratios```, corresponding to the vector $\\mathbf p$. *In the case in which we select a the ```'sparse'``` model this has to be a scalar!*\n",
    "- ```probability```, a scalar corrisponding to the relative weight $\\rho$ between the two clusters.\n",
    "- ```damping```, strength of the damping in the saddle-point iterations.\n",
    "- ```berbose```, boolean, ```True``` if want to print the progress, ```False``` otherwise. \n",
    "- ```problem```, option to specify if we want sparse or dense means.\n",
    "\n",
    "Once ```MyPredictor``` is created, it is possible tu run the for different values of the sample complexity, e.g., calling ```MyPredictor.learning_curve(sc_range = np.linspace(0.01, 3, 100))``` to obtain the learning curves between sample complexity 0.01 and sample complexity 3 with 100 steps. For example"
   ]
  },
  {
   "cell_type": "code",
   "execution_count": 102,
   "metadata": {},
   "outputs": [],
   "source": [
    "loss = 'square'\n",
    "penalty = 'l1'\n",
    "regularisation = 0.1\n",
    "variances = [0.1, 1]\n",
    "ratios = 0.5\n",
    "probability = 0.5\n",
    "damping=0.9\n",
    "problem = 'sparse'\n",
    "MyPredictor = LearningCurve(loss = loss,\n",
    "                            penalty = penalty, \n",
    "                            regularisation = regularisation, \n",
    "                            variances = variances,\n",
    "                            ratios = ratios,\n",
    "                            probability = probability,\n",
    "                            damping = damping,\n",
    "                            verbose = False,\n",
    "                            problem = problem)\n",
    "MyPredictor.learning_curve(sc_range = np.linspace(0.01, 2, 200))"
   ]
  },
  {
   "cell_type": "markdown",
   "metadata": {},
   "source": [
    "To get the output we run now"
   ]
  },
  {
   "cell_type": "code",
   "execution_count": 103,
   "metadata": {},
   "outputs": [
    {
     "data": {
      "text/html": [
       "<div>\n",
       "<style scoped>\n",
       "    .dataframe tbody tr th:only-of-type {\n",
       "        vertical-align: middle;\n",
       "    }\n",
       "\n",
       "    .dataframe tbody tr th {\n",
       "        vertical-align: top;\n",
       "    }\n",
       "\n",
       "    .dataframe thead th {\n",
       "        text-align: right;\n",
       "    }\n",
       "</style>\n",
       "<table border=\"1\" class=\"dataframe\">\n",
       "  <thead>\n",
       "    <tr style=\"text-align: right;\">\n",
       "      <th></th>\n",
       "      <th>loss</th>\n",
       "      <th>penalty</th>\n",
       "      <th>lambda</th>\n",
       "      <th>probability</th>\n",
       "      <th>sample_complexity</th>\n",
       "      <th>V</th>\n",
       "      <th>m</th>\n",
       "      <th>q</th>\n",
       "      <th>b</th>\n",
       "      <th>test_error</th>\n",
       "      <th>train_loss</th>\n",
       "    </tr>\n",
       "  </thead>\n",
       "  <tbody>\n",
       "    <tr>\n",
       "      <th>0</th>\n",
       "      <td>square</td>\n",
       "      <td>l1</td>\n",
       "      <td>0.1</td>\n",
       "      <td>0.5</td>\n",
       "      <td>0.01</td>\n",
       "      <td>1.663956</td>\n",
       "      <td>1.963673e-13</td>\n",
       "      <td>0.137356</td>\n",
       "      <td>0.0</td>\n",
       "      <td>0.500000</td>\n",
       "      <td>0.080133</td>\n",
       "    </tr>\n",
       "    <tr>\n",
       "      <th>1</th>\n",
       "      <td>square</td>\n",
       "      <td>l1</td>\n",
       "      <td>0.1</td>\n",
       "      <td>0.5</td>\n",
       "      <td>0.02</td>\n",
       "      <td>2.386886</td>\n",
       "      <td>6.738119e-10</td>\n",
       "      <td>0.190821</td>\n",
       "      <td>0.0</td>\n",
       "      <td>0.500000</td>\n",
       "      <td>0.051906</td>\n",
       "    </tr>\n",
       "    <tr>\n",
       "      <th>2</th>\n",
       "      <td>square</td>\n",
       "      <td>l1</td>\n",
       "      <td>0.1</td>\n",
       "      <td>0.5</td>\n",
       "      <td>0.03</td>\n",
       "      <td>2.860255</td>\n",
       "      <td>6.051796e-08</td>\n",
       "      <td>0.229770</td>\n",
       "      <td>0.0</td>\n",
       "      <td>0.500000</td>\n",
       "      <td>0.041263</td>\n",
       "    </tr>\n",
       "    <tr>\n",
       "      <th>3</th>\n",
       "      <td>square</td>\n",
       "      <td>l1</td>\n",
       "      <td>0.1</td>\n",
       "      <td>0.5</td>\n",
       "      <td>0.04</td>\n",
       "      <td>3.210359</td>\n",
       "      <td>1.215748e-06</td>\n",
       "      <td>0.262614</td>\n",
       "      <td>0.0</td>\n",
       "      <td>0.499999</td>\n",
       "      <td>0.035612</td>\n",
       "    </tr>\n",
       "    <tr>\n",
       "      <th>4</th>\n",
       "      <td>square</td>\n",
       "      <td>l1</td>\n",
       "      <td>0.1</td>\n",
       "      <td>0.5</td>\n",
       "      <td>0.05</td>\n",
       "      <td>3.484143</td>\n",
       "      <td>1.083718e-05</td>\n",
       "      <td>0.292102</td>\n",
       "      <td>0.0</td>\n",
       "      <td>0.499992</td>\n",
       "      <td>0.032129</td>\n",
       "    </tr>\n",
       "    <tr>\n",
       "      <th>...</th>\n",
       "      <td>...</td>\n",
       "      <td>...</td>\n",
       "      <td>...</td>\n",
       "      <td>...</td>\n",
       "      <td>...</td>\n",
       "      <td>...</td>\n",
       "      <td>...</td>\n",
       "      <td>...</td>\n",
       "      <td>...</td>\n",
       "      <td>...</td>\n",
       "      <td>...</td>\n",
       "    </tr>\n",
       "    <tr>\n",
       "      <th>195</th>\n",
       "      <td>square</td>\n",
       "      <td>l1</td>\n",
       "      <td>0.1</td>\n",
       "      <td>0.5</td>\n",
       "      <td>1.96</td>\n",
       "      <td>0.650698</td>\n",
       "      <td>7.848443e-01</td>\n",
       "      <td>0.209576</td>\n",
       "      <td>0.0</td>\n",
       "      <td>0.043227</td>\n",
       "      <td>0.046952</td>\n",
       "    </tr>\n",
       "    <tr>\n",
       "      <th>196</th>\n",
       "      <td>square</td>\n",
       "      <td>l1</td>\n",
       "      <td>0.1</td>\n",
       "      <td>0.5</td>\n",
       "      <td>1.97</td>\n",
       "      <td>0.646751</td>\n",
       "      <td>7.851753e-01</td>\n",
       "      <td>0.209261</td>\n",
       "      <td>0.0</td>\n",
       "      <td>0.043043</td>\n",
       "      <td>0.047093</td>\n",
       "    </tr>\n",
       "    <tr>\n",
       "      <th>197</th>\n",
       "      <td>square</td>\n",
       "      <td>l1</td>\n",
       "      <td>0.1</td>\n",
       "      <td>0.5</td>\n",
       "      <td>1.98</td>\n",
       "      <td>0.642848</td>\n",
       "      <td>7.855021e-01</td>\n",
       "      <td>0.208949</td>\n",
       "      <td>0.0</td>\n",
       "      <td>0.042861</td>\n",
       "      <td>0.047233</td>\n",
       "    </tr>\n",
       "    <tr>\n",
       "      <th>198</th>\n",
       "      <td>square</td>\n",
       "      <td>l1</td>\n",
       "      <td>0.1</td>\n",
       "      <td>0.5</td>\n",
       "      <td>1.99</td>\n",
       "      <td>0.638988</td>\n",
       "      <td>7.858248e-01</td>\n",
       "      <td>0.208640</td>\n",
       "      <td>0.0</td>\n",
       "      <td>0.042681</td>\n",
       "      <td>0.047372</td>\n",
       "    </tr>\n",
       "    <tr>\n",
       "      <th>199</th>\n",
       "      <td>square</td>\n",
       "      <td>l1</td>\n",
       "      <td>0.1</td>\n",
       "      <td>0.5</td>\n",
       "      <td>2.00</td>\n",
       "      <td>0.635170</td>\n",
       "      <td>7.861433e-01</td>\n",
       "      <td>0.208332</td>\n",
       "      <td>0.0</td>\n",
       "      <td>0.042502</td>\n",
       "      <td>0.047511</td>\n",
       "    </tr>\n",
       "  </tbody>\n",
       "</table>\n",
       "<p>200 rows × 11 columns</p>\n",
       "</div>"
      ],
      "text/plain": [
       "       loss penalty  lambda  probability  sample_complexity         V  \\\n",
       "0    square      l1     0.1          0.5               0.01  1.663956   \n",
       "1    square      l1     0.1          0.5               0.02  2.386886   \n",
       "2    square      l1     0.1          0.5               0.03  2.860255   \n",
       "3    square      l1     0.1          0.5               0.04  3.210359   \n",
       "4    square      l1     0.1          0.5               0.05  3.484143   \n",
       "..      ...     ...     ...          ...                ...       ...   \n",
       "195  square      l1     0.1          0.5               1.96  0.650698   \n",
       "196  square      l1     0.1          0.5               1.97  0.646751   \n",
       "197  square      l1     0.1          0.5               1.98  0.642848   \n",
       "198  square      l1     0.1          0.5               1.99  0.638988   \n",
       "199  square      l1     0.1          0.5               2.00  0.635170   \n",
       "\n",
       "                m         q    b  test_error  train_loss  \n",
       "0    1.963673e-13  0.137356  0.0    0.500000    0.080133  \n",
       "1    6.738119e-10  0.190821  0.0    0.500000    0.051906  \n",
       "2    6.051796e-08  0.229770  0.0    0.500000    0.041263  \n",
       "3    1.215748e-06  0.262614  0.0    0.499999    0.035612  \n",
       "4    1.083718e-05  0.292102  0.0    0.499992    0.032129  \n",
       "..            ...       ...  ...         ...         ...  \n",
       "195  7.848443e-01  0.209576  0.0    0.043227    0.046952  \n",
       "196  7.851753e-01  0.209261  0.0    0.043043    0.047093  \n",
       "197  7.855021e-01  0.208949  0.0    0.042861    0.047233  \n",
       "198  7.858248e-01  0.208640  0.0    0.042681    0.047372  \n",
       "199  7.861433e-01  0.208332  0.0    0.042502    0.047511  \n",
       "\n",
       "[200 rows x 11 columns]"
      ]
     },
     "execution_count": 103,
     "metadata": {},
     "output_type": "execute_result"
    }
   ],
   "source": [
    "MyPredictor.get_curve()"
   ]
  },
  {
   "cell_type": "markdown",
   "metadata": {},
   "source": [
    "We can plot our curves in the usual way"
   ]
  },
  {
   "cell_type": "code",
   "execution_count": 104,
   "metadata": {},
   "outputs": [
    {
     "data": {
      "text/plain": [
       "<matplotlib.legend.Legend at 0x7fd8d0d61f70>"
      ]
     },
     "execution_count": 104,
     "metadata": {},
     "output_type": "execute_result"
    },
    {
     "data": {
      "image/png": "[encoded data removed]",
      "text/plain": [
       "<Figure size 1080x360 with 1 Axes>"
      ]
     },
     "metadata": {
      "needs_background": "light"
     },
     "output_type": "display_data"
    }
   ],
   "source": [
    "fig, ax = plt.subplots(figsize=(15,5))\n",
    "if(problem == 'sparse'):\n",
    "    label = 'Sparse model with $\\Delta_1=${} and $\\Delta_2=${}'.format(variances[0],variances[1])\n",
    "else:\n",
    "    label = 'Dense mean with $\\boldsymbol\\sigma=${} and $\\mathbf p=${}'.format(variances,ratios)\n",
    "\n",
    "ax=MyPredictor.get_curve().plot(x='sample_complexity', \n",
    "        y='test_error', \n",
    "        ax=ax, color='green',\n",
    "        label=label)\n",
    "plt.ylabel(r\"test error\")\n",
    "plt.xlabel(r\"samples\")\n",
    "plt.legend()"
   ]
  },
  {
   "cell_type": "markdown",
   "metadata": {},
   "source": [
    "### An example of comparison with numerical experiments"
   ]
  },
  {
   "cell_type": "markdown",
   "metadata": {},
   "source": [
    "Let us consider the setting given by the options"
   ]
  },
  {
   "cell_type": "code",
   "execution_count": 95,
   "metadata": {},
   "outputs": [],
   "source": [
    "loss = 'square'\n",
    "penalty = 'l1'\n",
    "regularisation = 0.1\n",
    "variances = [0.1, 1]\n",
    "ratios = 0.5\n",
    "probability = 0.5\n",
    "problem = 'sparse'\n",
    "d=500"
   ]
  },
  {
   "cell_type": "markdown",
   "metadata": {},
   "source": [
    "Here ```d=500``` is the dimension we want to use for our experiment. Let us compare our theoretical prediction with numerical experiments. We can implement our solver first giving a function that generate our samples."
   ]
  },
  {
   "cell_type": "code",
   "execution_count": 96,
   "metadata": {},
   "outputs": [],
   "source": [
    "def get_meancov(d=500, *, ρ, Δ0, Δ1):\n",
    "    mean = np.random.normal(0, 1, d) / np.sqrt(d)\n",
    "    idx = np.random.choice(d, size=int((1-ρ)*d), replace=False)\n",
    "    cov = Δ1 * np.identity(d)\n",
    "    sqrtcov = np.sqrt(Δ1) * np.identity(d)\n",
    "    cov[idx, idx] = Δ0\n",
    "    sqrtcov[idx, idx] = np.sqrt(Δ0)\n",
    "    mean[idx] = 0.\n",
    "    return mean, cov, sqrtcov"
   ]
  },
  {
   "cell_type": "code",
   "execution_count": 97,
   "metadata": {},
   "outputs": [],
   "source": [
    "def get_samples(*, n, mean, sqrtcov, prob):\n",
    "    y = np.random.choice([1,-1], n, p = [prob, 1-prob])\n",
    "    X = y.reshape(n,1) @ mean.reshape(1,d) + np.random.normal(0,1,(n,d)) @ sqrtcov.T\n",
    "    return X/np.sqrt(d), y"
   ]
  },
  {
   "cell_type": "markdown",
   "metadata": {},
   "source": [
    "Then, we implement a function to get averaged training and test error over a number of seeds for a fixed number of samples ```seeds```."
   ]
  },
  {
   "cell_type": "code",
   "execution_count": 98,
   "metadata": {},
   "outputs": [],
   "source": [
    "def get_errors(*, samples, p, λ, seeds, Δ0, Δ1, ρ, penalty):\n",
    "    eg, et, q_tab, m_tab, b_tab = [], [], [], [], []\n",
    "    for i in range(seeds):\n",
    "        mean, cov, sqrtcov = get_meancov(d=d,ρ=ρ,Δ0=Δ0,Δ1=Δ1)\n",
    "        # Randomly subsample a set of indices (without replacement)\n",
    "        X_train, y_train = get_samples(n=samples, \n",
    "                                       sqrtcov=sqrtcov, \n",
    "                                       mean=mean,\n",
    "                                       prob=p)\n",
    "        X_test, y_test = get_samples(n=1000, \n",
    "                                     sqrtcov=sqrtcov, \n",
    "                                     mean=mean,\n",
    "                                     prob=p)\n",
    "        l1_ratio = (1e-10 if penalty == 'l2' else 1-1e-10)\n",
    "        if(loss == 'square'):\n",
    "            clf = ElasticNet(alpha = λ / samples, \n",
    "                       l1_ratio = l1_ratio,\n",
    "                       fit_intercept=True, \n",
    "                       tol=1e-8, \n",
    "                       max_iter=1e8).fit(X_train, y_train)\n",
    "            w, b = clf.coef_, clf.intercept_ \n",
    "        elif(loss=='hinge'):\n",
    "            clf = SGDClassifier(penalty='l2', loss='hinge', tol=1e-10, alpha=λ/samples, fit_intercept=True, \n",
    "                            verbose=0, max_iter=1e4).fit(X_train, y_train)\n",
    "            w, b = clf.coef_[0], clf.intercept_[0]\n",
    "        elif(loss=='log'):\n",
    "            clf = LogisticRegression(penalty=penalty, solver='liblinear',fit_intercept=True, C = λ**(-1), \n",
    "                                 max_iter=1e4, tol=1e-7, verbose=0).fit(X_train, y_train)\n",
    "            w, b = clf.coef_[0], clf.intercept_[0]  \n",
    "        # Label estimate\n",
    "        yhat_train = (X_train @ w + b)\n",
    "        yhat_test = np.sign(X_test @ w + b)\n",
    "        # Errors\n",
    "        test_error = .25 * np.mean((yhat_test-y_test)**2)\n",
    "        train_loss = .5 * np.mean((yhat_train-y_train)**2)\n",
    "        q = w.dot(cov @ w) / d        \n",
    "        m = mean.dot(w) / np.sqrt(d)    \n",
    "        eg.append(test_error)\n",
    "        et.append(train_loss)\n",
    "        q_tab.append(q)\n",
    "        m_tab.append(m)\n",
    "        b_tab.append(b)\n",
    "    return (np.mean(et), np.std(et), np.mean(eg), np.std(eg),\n",
    "            np.mean(q_tab), np.std(q_tab), \n",
    "            np.mean(m_tab), np.std(m_tab),\n",
    "            np.mean(b_tab), np.std(b_tab)\n",
    "           )"
   ]
  },
  {
   "cell_type": "code",
   "execution_count": 99,
   "metadata": {},
   "outputs": [],
   "source": [
    "def simulate(seeds=10, prob=0.5, penalty='l1', *, sc_range, lamb, delta0,delta1,rho):\n",
    "    data = {'test_error': [], 'train_loss': [], 'test_error_std': [], \n",
    "            'train_loss_std': [], 'lambda': [], 'probability': [],\n",
    "            'sample_complexity': [], 'samples': [], 'rho': [], 'penalty': [],\n",
    "            'q': [], 'q_std': [], 'm': [], 'm_std': [], 'b': [], 'b_std': []}\n",
    "    for alpha in sc_range:\n",
    "        print('Simulating sample complexity: {}'.format(alpha))\n",
    "        samples = int(alpha * d)\n",
    "        et, et_std, eg, eg_std, q, q_std, m, m_std, b, b_std = get_errors(samples=samples, \n",
    "                                                                p=prob, \n",
    "                                                                λ=lamb, \n",
    "                                                                seeds=seeds, \n",
    "                                                                Δ0=delta1, Δ1=delta0,\n",
    "                                                                ρ=rho,\n",
    "                                                                penalty=penalty)\n",
    "        data['sample_complexity'].append(alpha)\n",
    "        data['samples'].append(samples)\n",
    "        data['probability'].append(prob)\n",
    "        data['rho'].append(rho)\n",
    "        data['penalty'].append(penalty)\n",
    "        data['lambda'].append(lamb)\n",
    "        data['test_error'].append(eg)\n",
    "        data['test_error_std'].append(eg_std)\n",
    "        data['train_loss'].append(et)\n",
    "        data['train_loss_std'].append(et_std)\n",
    "        data['q'].append(q)\n",
    "        data['q_std'].append(q_std)\n",
    "        data['m'].append(m)\n",
    "        data['m_std'].append(m_std)\n",
    "        data['b'].append(b)\n",
    "        data['b_std'].append(b_std)\n",
    "    return pd.DataFrame.from_dict(data)"
   ]
  },
  {
   "cell_type": "markdown",
   "metadata": {},
   "source": [
    "Let us now simulate in dimension ```d=500```"
   ]
  },
  {
   "cell_type": "code",
   "execution_count": 100,
   "metadata": {},
   "outputs": [
    {
     "name": "stdout",
     "output_type": "stream",
     "text": [
      "Simulating sample complexity: 0.1\n",
      "Simulating sample complexity: 0.3111111111111111\n",
      "Simulating sample complexity: 0.5222222222222223\n",
      "Simulating sample complexity: 0.7333333333333333\n",
      "Simulating sample complexity: 0.9444444444444444\n",
      "Simulating sample complexity: 1.1555555555555557\n",
      "Simulating sample complexity: 1.3666666666666667\n",
      "Simulating sample complexity: 1.577777777777778\n",
      "Simulating sample complexity: 1.788888888888889\n",
      "Simulating sample complexity: 2.0\n"
     ]
    }
   ],
   "source": [
    "d=500\n",
    "sc_range = np.linspace(0.1, 2, 10)\n",
    "experiment = simulate(sc_range=sc_range, \n",
    "                lamb=regularisation, \n",
    "                delta0=variances[0],\n",
    "                delta1=variances[1],\n",
    "                rho=ratios,\n",
    "                penalty='l1',\n",
    "                seeds=10, prob=probability)"
   ]
  },
  {
   "cell_type": "code",
   "execution_count": 105,
   "metadata": {},
   "outputs": [
    {
     "data": {
      "text/plain": [
       "<matplotlib.legend.Legend at 0x7fd8d8dd2640>"
      ]
     },
     "execution_count": 105,
     "metadata": {},
     "output_type": "execute_result"
    },
    {
     "data": {
      "image/png": "[encoded data removed]",
      "text/plain": [
       "<Figure size 1080x360 with 1 Axes>"
      ]
     },
     "metadata": {
      "needs_background": "light"
     },
     "output_type": "display_data"
    }
   ],
   "source": [
    "fig, ax = plt.subplots(figsize=(15,5))\n",
    "ax=MyPredictor.get_curve().plot(x='sample_complexity', \n",
    "        y='test_error', \n",
    "        ax=ax, color='green',\n",
    "        label=label)\n",
    "ax=experiment.plot(x='sample_complexity', \n",
    "        y='test_error', \n",
    "        kind = 'scatter',\n",
    "        yerr='test_error_std',\n",
    "        ax=ax, color='red',\n",
    "        label='Numerical experiment')\n",
    "plt.ylabel(r\"test error\")\n",
    "plt.xlabel(r\"samples\")\n",
    "plt.legend()"
   ]
  },
  {
   "cell_type": "code",
   "execution_count": null,
   "metadata": {},
   "outputs": [],
   "source": []
  }
 ],
 "metadata": {
  "kernelspec": {
   "display_name": "Python 3",
   "language": "python",
   "name": "python3"
  },
  "language_info": {
   "codemirror_mode": {
    "name": "ipython",
    "version": 3
   },
   "file_extension": ".py",
   "mimetype": "text/x-python",
   "name": "python",
   "nbconvert_exporter": "python",
   "pygments_lexer": "ipython3",
   "version": "3.8.10"
  }
 },
 "nbformat": 4,
 "nbformat_minor": 5
}
