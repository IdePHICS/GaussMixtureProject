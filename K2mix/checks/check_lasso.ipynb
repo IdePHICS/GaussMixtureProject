{
 "cells": [
  {
   "cell_type": "code",
   "execution_count": 27,
   "metadata": {},
   "outputs": [],
   "source": [
    "import numpy as np\n",
    "import matplotlib.pyplot as plt\n",
    "import pandas as pd\n",
    "from scipy.linalg import sqrtm\n",
    "from sklearn.linear_model import ElasticNet\n",
    "\n",
    "import sys\n",
    "sys.path.insert(1, '../')\n",
    "from saddle_point.experiments.learning_curve import LearningCurve"
   ]
  },
  {
   "cell_type": "code",
   "execution_count": 28,
   "metadata": {},
   "outputs": [],
   "source": [
    "def get_mean(dimension=500, *, rho):\n",
    "    mean = np.random.normal(0, 1, dimension) / np.sqrt(dimension)\n",
    "        \n",
    "    idx = np.random.choice(dimension, size=int((1-rho)*dimension), replace=False)\n",
    "    mean[idx] = 0.\n",
    "    \n",
    "    return mean\n",
    "\n",
    "def get_cov(dimension=500, *, rho, delta1, delta2):\n",
    "    cov = delta1 * np.identity(dimension)\n",
    "        \n",
    "    idx = np.random.choice(dimension, size=int((1-rho)*dimension), replace=False)\n",
    "    cov[idx, idx] = delta2\n",
    "    \n",
    "    return cov"
   ]
  },
  {
   "cell_type": "code",
   "execution_count": 29,
   "metadata": {},
   "outputs": [],
   "source": [
    "d = 500\n",
    "lamb = 0.01\n",
    "\n",
    "rho = 0.5\n",
    "\n",
    "delta1 = 0.1\n",
    "delta2 = 0.5\n",
    "\n",
    "prob = 0.5\n",
    "\n",
    "cov = get_cov(dimension=d, \n",
    "              rho=rho, \n",
    "              delta1=delta1, \n",
    "              delta2=delta2)\n",
    "\n",
    "sqrtcov = sqrtm(cov)"
   ]
  },
  {
   "cell_type": "markdown",
   "metadata": {},
   "source": [
    "## Replicas"
   ]
  },
  {
   "cell_type": "code",
   "execution_count": 30,
   "metadata": {
    "scrolled": true,
    "tags": []
   },
   "outputs": [
    {
     "name": "stdout",
     "output_type": "stream",
     "text": [
      "Running sample complexity: 0.01\n",
      "Running sample complexity: 0.07102040816326531\n",
      "Running sample complexity: 0.1320408163265306\n",
      "Running sample complexity: 0.19306122448979593\n",
      "Running sample complexity: 0.2540816326530612\n",
      "Running sample complexity: 0.31510204081632653\n",
      "Running sample complexity: 0.37612244897959185\n",
      "Running sample complexity: 0.43714285714285717\n",
      "Running sample complexity: 0.4981632653061225\n",
      "Running sample complexity: 0.5591836734693878\n",
      "Running sample complexity: 0.6202040816326531\n",
      "Running sample complexity: 0.6812244897959184\n",
      "Running sample complexity: 0.7422448979591837\n",
      "Running sample complexity: 0.8032653061224491\n",
      "Running sample complexity: 0.8642857142857143\n",
      "Running sample complexity: 0.9253061224489797\n",
      "Running sample complexity: 0.986326530612245\n",
      "Running sample complexity: 1.0473469387755103\n",
      "Running sample complexity: 1.1083673469387756\n",
      "Running sample complexity: 1.1693877551020408\n",
      "Running sample complexity: 1.230408163265306\n",
      "Running sample complexity: 1.2914285714285716\n",
      "Running sample complexity: 1.3524489795918369\n",
      "Running sample complexity: 1.4134693877551021\n",
      "Running sample complexity: 1.4744897959183674\n",
      "Running sample complexity: 1.5355102040816326\n",
      "Running sample complexity: 1.5965306122448981\n",
      "Running sample complexity: 1.6575510204081634\n",
      "Running sample complexity: 1.7185714285714286\n",
      "Running sample complexity: 1.779591836734694\n",
      "Running sample complexity: 1.8406122448979594\n",
      "Running sample complexity: 1.9016326530612246\n",
      "Running sample complexity: 1.96265306122449\n",
      "Running sample complexity: 2.023673469387755\n",
      "Running sample complexity: 2.0846938775510204\n",
      "Running sample complexity: 2.1457142857142855\n",
      "Running sample complexity: 2.206734693877551\n",
      "Running sample complexity: 2.2677551020408164\n",
      "Running sample complexity: 2.3287755102040815\n",
      "Running sample complexity: 2.389795918367347\n",
      "Running sample complexity: 2.450816326530612\n",
      "Running sample complexity: 2.5118367346938775\n",
      "Running sample complexity: 2.572857142857143\n",
      "Running sample complexity: 2.633877551020408\n",
      "Running sample complexity: 2.6948979591836735\n",
      "Running sample complexity: 2.7559183673469385\n",
      "Running sample complexity: 2.816938775510204\n",
      "Running sample complexity: 2.8779591836734695\n",
      "Running sample complexity: 2.9389795918367345\n",
      "Running sample complexity: 3.0\n"
     ]
    }
   ],
   "source": [
    "experiment = LearningCurve(loss = 'square', \n",
    "                            penalty = 'l1', \n",
    "                            regularisation = lamb, \n",
    "                            variances = [delta1, delta2], \n",
    "                            ratios = [rho, 1-rho],\n",
    "                            probability = prob,\n",
    "                            damping=0.9,\n",
    "                            verbose = True)\n",
    "\n",
    "experiment.learning_curve(sc_range = np.linspace(0.01, 3, 50))"
   ]
  },
  {
   "cell_type": "markdown",
   "metadata": {},
   "source": [
    "Get learning curve in pandas"
   ]
  },
  {
   "cell_type": "code",
   "execution_count": 31,
   "metadata": {},
   "outputs": [],
   "source": [
    "theory = experiment.get_curve()"
   ]
  },
  {
   "cell_type": "markdown",
   "metadata": {},
   "source": [
    "Save curve"
   ]
  },
  {
   "cell_type": "code",
   "execution_count": 22,
   "metadata": {},
   "outputs": [],
   "source": [
    "# theory.to_csv('./data/theory/lasso_rho={}_delta1={}_delta2={}_lamb={}_prob={}.csv'.format(rho, delta1, delta2, lamb, prob), index=False)"
   ]
  },
  {
   "cell_type": "markdown",
   "metadata": {},
   "source": [
    "## Simulations"
   ]
  },
  {
   "cell_type": "code",
   "execution_count": 7,
   "metadata": {},
   "outputs": [],
   "source": [
    "def get_samples(*, n, mean, sqrtcov, prob):\n",
    "    \n",
    "    y = np.random.choice([1,-1], n, p = [prob, 1-prob])\n",
    "    X = y.reshape(n,1) @ mean.reshape(1,d) + np.random.normal(0,1,(n,d)) @ sqrtcov.T\n",
    "            \n",
    "    return X/np.sqrt(d), y"
   ]
  },
  {
   "cell_type": "code",
   "execution_count": 8,
   "metadata": {},
   "outputs": [],
   "source": [
    "def get_errors(*, samples, prob, lamb, seeds, sqrtcov, rho, penalty):\n",
    "    '''\n",
    "    Get averaged training and test error over a number of seeds for a fixed \n",
    "    number of samples.\n",
    "    '''\n",
    "    \n",
    "    eg, et, q_tab, m_tab, b_tab = [], [], [], [], []\n",
    "    \n",
    "    cov = sqrtcov @ sqrtcov\n",
    "    \n",
    "    for i in range(seeds):\n",
    "        print('Seed: {}'.format(i))\n",
    "        \n",
    "        mean = get_mean(rho=1)\n",
    "\n",
    "        # Randomly subsample a set of indices (without replacement)\n",
    "        X_train, y_train = get_samples(n=samples, \n",
    "                                       sqrtcov=sqrtcov, \n",
    "                                       mean=mean,\n",
    "                                       prob=prob)\n",
    "        \n",
    "        X_test, y_test = get_samples(n=1000, \n",
    "                                     sqrtcov=sqrtcov, \n",
    "                                     mean=mean,\n",
    "                                     prob=prob)\n",
    "\n",
    "\n",
    "        l1_ratio = (1e-10 if penalty == 'l2' else 1-1e-10)\n",
    "            \n",
    "        clf = ElasticNet(alpha = lamb / samples, \n",
    "                   l1_ratio = l1_ratio,\n",
    "                   fit_intercept=True, \n",
    "                   tol=1e-8, \n",
    "                   max_iter=1e8).fit(X_train, y_train)\n",
    "\n",
    "        w, b = clf.coef_, clf.intercept_\n",
    "            \n",
    "        # Label estimate\n",
    "        yhat_train = (X_train @ w + b)\n",
    "        yhat_test = np.sign(X_test @ w + b)\n",
    "\n",
    "        # Errors\n",
    "        test_error = .25 * np.mean((yhat_test-y_test)**2)\n",
    "        train_loss = .5 * np.mean((yhat_train-y_train)**2)\n",
    "        \n",
    "        q = w.dot(cov @ w) / d        \n",
    "        m = mean.dot(w) / np.sqrt(d)\n",
    "                \n",
    "        eg.append(test_error)\n",
    "        et.append(train_loss)\n",
    "        \n",
    "        q_tab.append(q)\n",
    "        m_tab.append(m)\n",
    "        b_tab.append(b)\n",
    "\n",
    "    return (np.mean(et), np.std(et), np.mean(eg), np.std(eg),\n",
    "            np.mean(q_tab), np.std(q_tab), \n",
    "            np.mean(m_tab), np.std(m_tab),\n",
    "            np.mean(b_tab), np.std(b_tab)\n",
    "           )"
   ]
  },
  {
   "cell_type": "code",
   "execution_count": 9,
   "metadata": {},
   "outputs": [],
   "source": [
    "def simulate(seeds=10, prob=.5, penalty='l1', *, sc_range, lamb, sqrtcov, rho):\n",
    "\n",
    "    data = {'test_error': [], 'train_loss': [], 'test_error_std': [], \n",
    "            'train_loss_std': [], 'lambda': [], 'probability': [],\n",
    "            'sample_complexity': [], 'samples': [], 'rho': [], 'penalty': [],\n",
    "            'q': [], 'q_std': [], 'm': [], 'm_std': [], 'b': [], 'b_std': []}\n",
    "    \n",
    "    for alpha in sc_range:\n",
    "        print('Simulating sample complexity: {}'.format(alpha))\n",
    "        samples = int(alpha * d)\n",
    "        et, et_std, eg, eg_std, q, q_std, m, m_std, b, b_std = get_errors(samples=samples, \n",
    "                                                                prob=prob, \n",
    "                                                                lamb=lamb, \n",
    "                                                                seeds=seeds, \n",
    "                                                                sqrtcov=sqrtcov,\n",
    "                                                                rho=rho,\n",
    "                                                                penalty=penalty)\n",
    "        \n",
    "        data['sample_complexity'].append(alpha)\n",
    "        data['samples'].append(samples)\n",
    "        data['probability'].append(prob)\n",
    "        data['rho'].append(rho)\n",
    "        data['penalty'].append(penalty)\n",
    "        \n",
    "        data['lambda'].append(lamb)\n",
    "\n",
    "        data['test_error'].append(eg)\n",
    "        data['test_error_std'].append(eg_std)\n",
    "        data['train_loss'].append(et)\n",
    "        data['train_loss_std'].append(et_std)\n",
    "\n",
    "        data['q'].append(q)\n",
    "        data['q_std'].append(q_std)\n",
    "\n",
    "        data['m'].append(m)\n",
    "        data['m_std'].append(m_std)\n",
    "\n",
    "        data['b'].append(b)\n",
    "        data['b_std'].append(b_std)\n",
    "        \n",
    "    return pd.DataFrame.from_dict(data)"
   ]
  },
  {
   "cell_type": "code",
   "execution_count": 10,
   "metadata": {
    "scrolled": true,
    "tags": []
   },
   "outputs": [
    {
     "name": "stdout",
     "output_type": "stream",
     "text": [
      "Simulating sample complexity: 0.1\n",
      "Seed: 0\n",
      "Seed: 1\n",
      "Seed: 2\n",
      "Seed: 3\n",
      "Seed: 4\n",
      "Seed: 5\n",
      "Seed: 6\n",
      "Seed: 7\n",
      "Seed: 8\n",
      "Seed: 9\n",
      "Simulating sample complexity: 0.42222222222222217\n",
      "Seed: 0\n",
      "Seed: 1\n",
      "Seed: 2\n",
      "Seed: 3\n",
      "Seed: 4\n",
      "Seed: 5\n",
      "Seed: 6\n",
      "Seed: 7\n",
      "Seed: 8\n",
      "Seed: 9\n",
      "Simulating sample complexity: 0.7444444444444444\n",
      "Seed: 0\n",
      "Seed: 1\n",
      "Seed: 2\n",
      "Seed: 3\n",
      "Seed: 4\n",
      "Seed: 5\n",
      "Seed: 6\n",
      "Seed: 7\n",
      "Seed: 8\n",
      "Seed: 9\n",
      "Simulating sample complexity: 1.0666666666666667\n",
      "Seed: 0\n",
      "Seed: 1\n",
      "Seed: 2\n",
      "Seed: 3\n",
      "Seed: 4\n",
      "Seed: 5\n",
      "Seed: 6\n",
      "Seed: 7\n",
      "Seed: 8\n",
      "Seed: 9\n",
      "Simulating sample complexity: 1.3888888888888888\n",
      "Seed: 0\n",
      "Seed: 1\n",
      "Seed: 2\n",
      "Seed: 3\n",
      "Seed: 4\n",
      "Seed: 5\n",
      "Seed: 6\n",
      "Seed: 7\n",
      "Seed: 8\n",
      "Seed: 9\n",
      "Simulating sample complexity: 1.711111111111111\n",
      "Seed: 0\n",
      "Seed: 1\n",
      "Seed: 2\n",
      "Seed: 3\n",
      "Seed: 4\n",
      "Seed: 5\n",
      "Seed: 6\n",
      "Seed: 7\n",
      "Seed: 8\n",
      "Seed: 9\n",
      "Simulating sample complexity: 2.033333333333333\n",
      "Seed: 0\n",
      "Seed: 1\n",
      "Seed: 2\n",
      "Seed: 3\n",
      "Seed: 4\n",
      "Seed: 5\n",
      "Seed: 6\n",
      "Seed: 7\n",
      "Seed: 8\n",
      "Seed: 9\n",
      "Simulating sample complexity: 2.3555555555555556\n",
      "Seed: 0\n",
      "Seed: 1\n",
      "Seed: 2\n",
      "Seed: 3\n",
      "Seed: 4\n",
      "Seed: 5\n",
      "Seed: 6\n",
      "Seed: 7\n",
      "Seed: 8\n",
      "Seed: 9\n",
      "Simulating sample complexity: 2.6777777777777776\n",
      "Seed: 0\n",
      "Seed: 1\n",
      "Seed: 2\n",
      "Seed: 3\n",
      "Seed: 4\n",
      "Seed: 5\n",
      "Seed: 6\n",
      "Seed: 7\n",
      "Seed: 8\n",
      "Seed: 9\n",
      "Simulating sample complexity: 3.0\n",
      "Seed: 0\n",
      "Seed: 1\n",
      "Seed: 2\n",
      "Seed: 3\n",
      "Seed: 4\n",
      "Seed: 5\n",
      "Seed: 6\n",
      "Seed: 7\n",
      "Seed: 8\n",
      "Seed: 9\n"
     ]
    }
   ],
   "source": [
    "sc_range = np.linspace(0.1, 3, 10)\n",
    "l1 = simulate(sc_range=sc_range, \n",
    "                lamb=lamb, \n",
    "                sqrtcov=sqrtcov, \n",
    "                rho=rho,\n",
    "                penalty='l1',\n",
    "                seeds=10)"
   ]
  },
  {
   "cell_type": "code",
   "execution_count": 25,
   "metadata": {},
   "outputs": [],
   "source": [
    "# l1.to_csv('./data/simulation/sim_lasso_rho={}_delta1={}_delta2={}_lamb={}_prob={}.csv'.format(rho, delta1, delta2, lamb, prob), index=False)"
   ]
  },
  {
   "cell_type": "code",
   "execution_count": 26,
   "metadata": {},
   "outputs": [
    {
     "data": {
      "text/plain": [
       "<matplotlib.legend.Legend at 0x1216f5910>"
      ]
     },
     "execution_count": 26,
     "metadata": {},
     "output_type": "execute_result"
    },
    {
     "data": {
      "image/png": "[encoded data removed]",
      "text/plain": [
       "<Figure size 1080x360 with 1 Axes>"
      ]
     },
     "metadata": {
      "needs_background": "light"
     },
     "output_type": "display_data"
    }
   ],
   "source": [
    "fig, ax = plt.subplots(figsize=(15,5))\n",
    "\n",
    "plt.title(r'Lasso regression for binary Gaussian mixture with random means and block covariance, $p={}$ $\\Delta = ({}, {})$, $\\rho={}$'.format(prob, delta1, delta2, rho))\n",
    "\n",
    "l1.plot(x='sample_complexity', \n",
    "        y='test_error', \n",
    "        kind = 'scatter',\n",
    "        yerr='test_error_std',\n",
    "        ax=ax, \n",
    "        label='Simulation',\n",
    "        c='r')\n",
    "\n",
    "theory.plot(x='sample_complexity', \n",
    "        y='test_error', \n",
    "        ax=ax, \n",
    "        label='Theory',\n",
    "        c='b')\n",
    "\n",
    "plt.ylabel(r\"test error\")\n",
    "plt.xlabel(r\"sample complexity\")\n",
    "\n",
    "plt.legend()\n",
    "# plt.savefig('./data/plots/lasso_rho={}_delta1={}_delta2={}_lamb={}_prob={}.pdf'.format(rho, delta1, delta2, lamb, prob), bbox_inches='tight')"
   ]
  },
  {
   "cell_type": "code",
   "execution_count": null,
   "metadata": {},
   "outputs": [],
   "source": []
  }
 ],
 "metadata": {
  "kernelspec": {
   "display_name": "Python 3",
   "language": "python",
   "name": "python3"
  },
  "language_info": {
   "codemirror_mode": {
    "name": "ipython",
    "version": 3
   },
   "file_extension": ".py",
   "mimetype": "text/x-python",
   "name": "python",
   "nbconvert_exporter": "python",
   "pygments_lexer": "ipython3",
   "version": "3.8.10"
  }
 },
 "nbformat": 4,
 "nbformat_minor": 5
}
